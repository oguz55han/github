{
  "cells": [
    {
      "cell_type": "markdown",
      "metadata": {
        "id": "view-in-github",
        "colab_type": "text"
      },
      "source": [
        "<a href=\"https://colab.research.google.com/github/oguz55han/github/blob/main/Asignments.ipynb\" target=\"_parent\"><img src=\"https://colab.research.google.com/assets/colab-badge.svg\" alt=\"Open In Colab\"/></a>"
      ]
    },
    {
      "cell_type": "markdown",
      "metadata": {
        "id": "tN3O2ewtn38T"
      },
      "source": [
        "## <p style=\"background-color:#9d4f8c; font-family:newtimeroman; color:#FFF9ED; font-size:175%; text-align:center; border-radius:10px 10px;\">Importing Libraries Needed in This Notebook</p>\n",
        "\n",
        "<a id=\"0\"></a>\n",
        "<a href=\"#toc\" class=\"btn btn-primary btn-sm\" role=\"button\" aria-pressed=\"true\" \n",
        "style=\"color:blue; background-color:#dfa8e4\" data-toggle=\"popover\">Content</a>\n",
        "\n",
        "Once you've installed NumPy you can import it as a library:\n",
        "\n",
        "**``NOTE:``** For installation instructions, please refer to the notebook at SESSION-01 (Numpy Part-01)"
      ]
    },
    {
      "cell_type": "code",
      "execution_count": null,
      "metadata": {
        "id": "j8pTigo3EOrr"
      },
      "outputs": [],
      "source": [
        "import numpy as np"
      ]
    },
    {
      "cell_type": "markdown",
      "metadata": {
        "id": "Ql23R8oWn38Z"
      },
      "source": [
        "**REMINDER**<br>\n",
        "NumPy or Numeric Python is a package for computation on homogenous n-dimensional arrays. In numpy dimensions are called as axes.\n",
        "\n",
        "**Why do we need NumPy?**\n",
        "\n",
        "A question arises that why do we need NumPy when python lists are already there. The answer to it is we cannot perform operations on all the elements of two list directly. For example, we cannot multiply two lists directly we will have to do it element-wise. This is where the role of NumPy comes into play."
      ]
    },
    {
      "cell_type": "markdown",
      "metadata": {
        "id": "GJskdHLdn38d"
      },
      "source": [
        "## <p style=\"background-color:#9d4f8c; font-family:newtimeroman; color:#FFF9ED; font-size:175%; text-align:center; border-radius:10px 10px;\">Concatenation of the Arrays</p>\n",
        "\n",
        "<a id=\"00\"></a>\n",
        "<a href=\"#toc\" class=\"btn btn-primary btn-sm\" role=\"button\" aria-pressed=\"true\" \n",
        "style=\"color:blue; background-color:#dfa8e4\" data-toggle=\"popover\">Content</a>\n",
        "\n",
        "In this lecture we will first discuss how to concatenate, split and sort the arrays.\n",
        "\n",
        "**``concatenate((a1, a2, ...), axis=0, out=None)``**"
      ]
    },
    {
      "cell_type": "code",
      "execution_count": null,
      "metadata": {
        "id": "hOK9gXVDn38e"
      },
      "outputs": [],
      "source": [
        "x = np.array([1, 2, 3])\n",
        "y = np.array([4, 5, 6])\n",
        "z = np.array([7, 8, 9])"
      ]
    },
    {
      "cell_type": "code",
      "execution_count": null,
      "metadata": {
        "colab": {
          "base_uri": "https://localhost:8080/"
        },
        "id": "MRhcm6J9n38f",
        "outputId": "58a53f3b-d722-4803-e11e-bb785c937865"
      },
      "outputs": [
        {
          "output_type": "execute_result",
          "data": {
            "text/plain": [
              "array([1, 2, 3, 4, 5, 6])"
            ]
          },
          "metadata": {},
          "execution_count": 4
        }
      ],
      "source": [
        "np.concatenate((x, y))"
      ]
    },
    {
      "cell_type": "code",
      "execution_count": null,
      "metadata": {
        "colab": {
          "base_uri": "https://localhost:8080/"
        },
        "id": "7V_Kg7nyn38l",
        "outputId": "d25e9810-85a2-4b3b-a4a8-359187e65f76"
      },
      "outputs": [
        {
          "output_type": "execute_result",
          "data": {
            "text/plain": [
              "array([1, 2, 3, 4, 5, 6, 7, 8, 9])"
            ]
          },
          "metadata": {},
          "execution_count": 5
        }
      ],
      "source": [
        "np.concatenate((x, y, z))"
      ]
    },
    {
      "cell_type": "code",
      "execution_count": null,
      "metadata": {
        "id": "5rl1YaBbn38m"
      },
      "outputs": [],
      "source": [
        "# np.concatenate([x, y, z], axis = 1) "
      ]
    },
    {
      "cell_type": "code",
      "execution_count": null,
      "metadata": {
        "colab": {
          "base_uri": "https://localhost:8080/"
        },
        "id": "A5aOiF50n38n",
        "outputId": "5807a5d7-4806-4358-9c6b-36f3dbbc30ad"
      },
      "outputs": [
        {
          "output_type": "execute_result",
          "data": {
            "text/plain": [
              "array([[1, 2, 3],\n",
              "       [4, 5, 6],\n",
              "       [7, 8, 9]])"
            ]
          },
          "metadata": {},
          "execution_count": 7
        }
      ],
      "source": [
        "np.concatenate([x.reshape(1, 3), y.reshape(1, 3), z.reshape(1, 3)], axis = 0)"
      ]
    },
    {
      "cell_type": "code",
      "execution_count": null,
      "metadata": {
        "colab": {
          "base_uri": "https://localhost:8080/"
        },
        "id": "5xStARhqn38o",
        "outputId": "7be7ea42-3716-461b-9d3c-9af37f668145"
      },
      "outputs": [
        {
          "output_type": "execute_result",
          "data": {
            "text/plain": [
              "array([[1, 2, 3, 4, 5, 6, 7, 8, 9]])"
            ]
          },
          "metadata": {},
          "execution_count": 9
        }
      ],
      "source": [
        "np.concatenate([x.reshape(1, 3), y.reshape(1, 3), z.reshape(1, 3)], axis = 1)"
      ]
    },
    {
      "cell_type": "code",
      "source": [
        "v=np.array([2,1,4,3,5])\n",
        "v"
      ],
      "metadata": {
        "colab": {
          "base_uri": "https://localhost:8080/"
        },
        "id": "4Xz2AbAczECf",
        "outputId": "26efe963-4ba5-47d4-a949-310094238736"
      },
      "execution_count": null,
      "outputs": [
        {
          "output_type": "execute_result",
          "data": {
            "text/plain": [
              "array([2, 1, 4, 3, 5])"
            ]
          },
          "metadata": {},
          "execution_count": 35
        }
      ]
    },
    {
      "cell_type": "code",
      "source": [
        "np.sort(v)"
      ],
      "metadata": {
        "colab": {
          "base_uri": "https://localhost:8080/"
        },
        "id": "Yx3u4rHqzEAd",
        "outputId": "dff6bc59-dfcd-4cf0-fc4d-079be18afa84"
      },
      "execution_count": null,
      "outputs": [
        {
          "output_type": "execute_result",
          "data": {
            "text/plain": [
              "array([1, 2, 3, 4, 5])"
            ]
          },
          "metadata": {},
          "execution_count": 36
        }
      ]
    },
    {
      "cell_type": "code",
      "source": [
        "v"
      ],
      "metadata": {
        "colab": {
          "base_uri": "https://localhost:8080/"
        },
        "id": "c60n9al1zD-V",
        "outputId": "63db6092-84cf-460a-f37c-0d3472417c4e"
      },
      "execution_count": null,
      "outputs": [
        {
          "output_type": "execute_result",
          "data": {
            "text/plain": [
              "array([2, 1, 4, 3, 5])"
            ]
          },
          "metadata": {},
          "execution_count": 37
        }
      ]
    },
    {
      "cell_type": "code",
      "source": [
        "v.sort()"
      ],
      "metadata": {
        "id": "JhARu88QzD8F"
      },
      "execution_count": null,
      "outputs": []
    },
    {
      "cell_type": "code",
      "source": [],
      "metadata": {
        "id": "gEGSgSf8zD5t"
      },
      "execution_count": null,
      "outputs": []
    },
    {
      "cell_type": "code",
      "source": [],
      "metadata": {
        "id": "-ipAcDODzD3D"
      },
      "execution_count": null,
      "outputs": []
    },
    {
      "cell_type": "code",
      "source": [],
      "metadata": {
        "id": "4aH5nvU2zD0J"
      },
      "execution_count": null,
      "outputs": []
    },
    {
      "cell_type": "markdown",
      "metadata": {
        "id": "W0kLRFoOn38p"
      },
      "source": [
        "### <p style=\"background-color:#9d4f8c; font-family:newtimeroman; color:#FFF9ED; font-size:150%; text-align:LEFT; border-radius:10px 10px;\">2d Matrix</p>\n",
        "\n",
        "<a id=\"00.1\"></a>\n",
        "<a href=\"#toc\" class=\"btn btn-primary btn-sm\" role=\"button\" aria-pressed=\"true\" \n",
        "style=\"color:blue; background-color:#dfa8e4\" data-toggle=\"popover\">Content</a>"
      ]
    },
    {
      "cell_type": "code",
      "execution_count": null,
      "metadata": {
        "colab": {
          "base_uri": "https://localhost:8080/"
        },
        "id": "lF69CqmDn38q",
        "outputId": "e61cd7d8-0310-4925-b610-0fbadec83a18"
      },
      "outputs": [
        {
          "output_type": "execute_result",
          "data": {
            "text/plain": [
              "array([1, 2, 3])"
            ]
          },
          "metadata": {},
          "execution_count": 10
        }
      ],
      "source": [
        "x\n"
      ]
    },
    {
      "cell_type": "code",
      "execution_count": null,
      "metadata": {
        "colab": {
          "base_uri": "https://localhost:8080/"
        },
        "id": "Ol_-wdpkn38q",
        "outputId": "46c8d0f3-5a86-4e50-bd2f-5a58c071eeaf"
      },
      "outputs": [
        {
          "output_type": "execute_result",
          "data": {
            "text/plain": [
              "array([4, 5, 6])"
            ]
          },
          "metadata": {},
          "execution_count": 12
        }
      ],
      "source": [
        "y\n"
      ]
    },
    {
      "cell_type": "code",
      "source": [
        "z"
      ],
      "metadata": {
        "colab": {
          "base_uri": "https://localhost:8080/"
        },
        "id": "HNGz2s_DtXyN",
        "outputId": "8d36c3fb-3a76-4af5-ce01-43363449fb3e"
      },
      "execution_count": null,
      "outputs": [
        {
          "output_type": "execute_result",
          "data": {
            "text/plain": [
              "array([7, 8, 9])"
            ]
          },
          "metadata": {},
          "execution_count": 13
        }
      ]
    },
    {
      "cell_type": "code",
      "source": [
        "np.concatenate((x,y,z) , axis = 0)"
      ],
      "metadata": {
        "colab": {
          "base_uri": "https://localhost:8080/"
        },
        "id": "_wZNjXehtXmP",
        "outputId": "d80d9f5d-1846-4cdc-f197-c98fd31bf239"
      },
      "execution_count": null,
      "outputs": [
        {
          "output_type": "execute_result",
          "data": {
            "text/plain": [
              "array([1, 2, 3, 4, 5, 6, 7, 8, 9])"
            ]
          },
          "metadata": {},
          "execution_count": 16
        }
      ]
    },
    {
      "cell_type": "code",
      "source": [
        "np.concatenate([[x,y,z]] , axis = 0)"
      ],
      "metadata": {
        "colab": {
          "base_uri": "https://localhost:8080/"
        },
        "id": "WSv50xpxuFGn",
        "outputId": "ac7f0822-7f67-4445-a768-a831fe2f6035"
      },
      "execution_count": null,
      "outputs": [
        {
          "output_type": "execute_result",
          "data": {
            "text/plain": [
              "array([[1, 2, 3],\n",
              "       [4, 5, 6],\n",
              "       [7, 8, 9]])"
            ]
          },
          "metadata": {},
          "execution_count": 17
        }
      ]
    },
    {
      "cell_type": "code",
      "source": [
        "np.array([x,y,z])\n"
      ],
      "metadata": {
        "colab": {
          "base_uri": "https://localhost:8080/",
          "height": 165
        },
        "id": "aNbBRPbyuF-y",
        "outputId": "df508660-5fd1-4157-f49a-4a2826d98cea"
      },
      "execution_count": null,
      "outputs": [
        {
          "output_type": "error",
          "ename": "NameError",
          "evalue": "ignored",
          "traceback": [
            "\u001b[0;31m---------------------------------------------------------------------------\u001b[0m",
            "\u001b[0;31mNameError\u001b[0m                                 Traceback (most recent call last)",
            "\u001b[0;32m<ipython-input-1-89c926cb977a>\u001b[0m in \u001b[0;36m<module>\u001b[0;34m\u001b[0m\n\u001b[0;32m----> 1\u001b[0;31m \u001b[0mnp\u001b[0m\u001b[0;34m.\u001b[0m\u001b[0marray\u001b[0m\u001b[0;34m(\u001b[0m\u001b[0;34m[\u001b[0m\u001b[0mx\u001b[0m\u001b[0;34m,\u001b[0m\u001b[0my\u001b[0m\u001b[0;34m,\u001b[0m\u001b[0mz\u001b[0m\u001b[0;34m]\u001b[0m\u001b[0;34m)\u001b[0m\u001b[0;34m\u001b[0m\u001b[0;34m\u001b[0m\u001b[0m\n\u001b[0m",
            "\u001b[0;31mNameError\u001b[0m: name 'np' is not defined"
          ]
        }
      ]
    },
    {
      "cell_type": "markdown",
      "source": [
        "2d matrix"
      ],
      "metadata": {
        "id": "7htYZhYtuwOx"
      }
    },
    {
      "cell_type": "code",
      "source": [
        "a = np.random.randint(10,size=(2,3))\n",
        "b= np.random.randint(10,size=(2,3))"
      ],
      "metadata": {
        "id": "pvdf-GO_uF8m"
      },
      "execution_count": null,
      "outputs": []
    },
    {
      "cell_type": "code",
      "source": [
        "a\n"
      ],
      "metadata": {
        "colab": {
          "base_uri": "https://localhost:8080/"
        },
        "id": "FJSr4G4AuF6a",
        "outputId": "b7fb0834-c437-458f-ba3c-c5e559080990"
      },
      "execution_count": null,
      "outputs": [
        {
          "output_type": "execute_result",
          "data": {
            "text/plain": [
              "array([[6, 5, 8],\n",
              "       [2, 6, 1]])"
            ]
          },
          "metadata": {},
          "execution_count": 21
        }
      ]
    },
    {
      "cell_type": "code",
      "source": [
        "b"
      ],
      "metadata": {
        "colab": {
          "base_uri": "https://localhost:8080/"
        },
        "id": "5ExiMjjluFEV",
        "outputId": "64e6928b-bba7-44ae-b57c-f04f8195bbaa"
      },
      "execution_count": null,
      "outputs": [
        {
          "output_type": "execute_result",
          "data": {
            "text/plain": [
              "array([[9, 9, 6],\n",
              "       [3, 3, 5]])"
            ]
          },
          "metadata": {},
          "execution_count": 22
        }
      ]
    },
    {
      "cell_type": "code",
      "source": [
        "a,b"
      ],
      "metadata": {
        "colab": {
          "base_uri": "https://localhost:8080/"
        },
        "id": "ojVHnR7DvBrN",
        "outputId": "9195f233-22b1-4e8b-df21-0192e517db48"
      },
      "execution_count": null,
      "outputs": [
        {
          "output_type": "execute_result",
          "data": {
            "text/plain": [
              "(array([[6, 5, 8],\n",
              "        [2, 6, 1]]), array([[9, 9, 6],\n",
              "        [3, 3, 5]]))"
            ]
          },
          "metadata": {},
          "execution_count": 23
        }
      ]
    },
    {
      "cell_type": "code",
      "source": [
        "np.concatenate((a,b), axis=0)"
      ],
      "metadata": {
        "colab": {
          "base_uri": "https://localhost:8080/"
        },
        "id": "b2TYiVbhvBpE",
        "outputId": "0417569e-4006-4383-f39e-54e5eca02c9a"
      },
      "execution_count": null,
      "outputs": [
        {
          "output_type": "execute_result",
          "data": {
            "text/plain": [
              "array([[6, 5, 8],\n",
              "       [2, 6, 1],\n",
              "       [9, 9, 6],\n",
              "       [3, 3, 5]])"
            ]
          },
          "metadata": {},
          "execution_count": 24
        }
      ]
    },
    {
      "cell_type": "code",
      "source": [
        "np.concatenate((a,b), axis=1)"
      ],
      "metadata": {
        "colab": {
          "base_uri": "https://localhost:8080/"
        },
        "id": "jhW2DJbDvBnC",
        "outputId": "be1afd1d-7d35-488d-fde9-5f17e60a7c07"
      },
      "execution_count": null,
      "outputs": [
        {
          "output_type": "execute_result",
          "data": {
            "text/plain": [
              "array([[6, 5, 8, 9, 9, 6],\n",
              "       [2, 6, 1, 3, 3, 5]])"
            ]
          },
          "metadata": {},
          "execution_count": 25
        }
      ]
    },
    {
      "cell_type": "code",
      "source": [
        "\n",
        "m= np.arange(20).reshape(5,4)\n",
        "m"
      ],
      "metadata": {
        "colab": {
          "base_uri": "https://localhost:8080/"
        },
        "id": "0TfGpJH-vBkw",
        "outputId": "00e3fc56-ec9f-4d4c-bc96-879cfa0f30af"
      },
      "execution_count": null,
      "outputs": [
        {
          "output_type": "execute_result",
          "data": {
            "text/plain": [
              "array([[ 0,  1,  2,  3],\n",
              "       [ 4,  5,  6,  7],\n",
              "       [ 8,  9, 10, 11],\n",
              "       [12, 13, 14, 15],\n",
              "       [16, 17, 18, 19]])"
            ]
          },
          "metadata": {},
          "execution_count": 32
        }
      ]
    },
    {
      "cell_type": "code",
      "source": [
        "np.split(m , [1,3], axis=0)"
      ],
      "metadata": {
        "colab": {
          "base_uri": "https://localhost:8080/"
        },
        "id": "fF3x-BgcvBii",
        "outputId": "e20439dd-c00c-437c-cf1e-0aa9105830c5"
      },
      "execution_count": null,
      "outputs": [
        {
          "output_type": "execute_result",
          "data": {
            "text/plain": [
              "[array([[0, 1, 2, 3]]), array([[ 4,  5,  6,  7],\n",
              "        [ 8,  9, 10, 11]]), array([[12, 13, 14, 15],\n",
              "        [16, 17, 18, 19]])]"
            ]
          },
          "metadata": {},
          "execution_count": 34
        }
      ]
    },
    {
      "cell_type": "code",
      "source": [
        "twoD = np.random.randint(5,100,(3,3))\n",
        "twoD"
      ],
      "metadata": {
        "colab": {
          "base_uri": "https://localhost:8080/"
        },
        "id": "-b68ACBCvBgY",
        "outputId": "b2029ba8-0486-487c-b60a-f5cf83777ef6"
      },
      "execution_count": null,
      "outputs": [
        {
          "output_type": "execute_result",
          "data": {
            "text/plain": [
              "array([[85, 81, 15],\n",
              "       [19,  7, 74],\n",
              "       [91, 69, 71]])"
            ]
          },
          "metadata": {},
          "execution_count": 43
        }
      ]
    },
    {
      "cell_type": "code",
      "source": [
        "np.sort(twoD,axis=0)"
      ],
      "metadata": {
        "colab": {
          "base_uri": "https://localhost:8080/"
        },
        "id": "9xV4JpNLvBeB",
        "outputId": "4aae7d75-0adc-4d7b-b24d-7186591c0c86"
      },
      "execution_count": null,
      "outputs": [
        {
          "output_type": "execute_result",
          "data": {
            "text/plain": [
              "array([[19,  7, 15],\n",
              "       [85, 69, 71],\n",
              "       [91, 81, 74]])"
            ]
          },
          "metadata": {},
          "execution_count": 44
        }
      ]
    },
    {
      "cell_type": "code",
      "source": [],
      "metadata": {
        "id": "ZyFbaxgPvBbt"
      },
      "execution_count": null,
      "outputs": []
    },
    {
      "cell_type": "code",
      "source": [],
      "metadata": {
        "id": "M33lW_ts91iR"
      },
      "execution_count": null,
      "outputs": []
    },
    {
      "cell_type": "code",
      "source": [],
      "metadata": {
        "id": "k3JRqqqs91gX"
      },
      "execution_count": null,
      "outputs": []
    },
    {
      "cell_type": "code",
      "source": [],
      "metadata": {
        "id": "gKEjDNSh91c-"
      },
      "execution_count": null,
      "outputs": []
    },
    {
      "cell_type": "markdown",
      "metadata": {
        "id": "5kK_NwFQn38r"
      },
      "source": [
        "## <p style=\"background-color:#9d4f8c; font-family:newtimeroman; color:#FFF9ED; font-size:175%; text-align:center; border-radius:10px 10px;\">Splitting of the Arrays</p>\n",
        "\n",
        "<a id=\"000\"></a>\n",
        "<a href=\"#toc\" class=\"btn btn-primary btn-sm\" role=\"button\" aria-pressed=\"true\" \n",
        "style=\"color:blue; background-color:#dfa8e4\" data-toggle=\"popover\">Content</a>\n",
        "\n",
        "**``np.split(ary, indices_or_sections, axis=0)``**"
      ]
    },
    {
      "cell_type": "code",
      "source": [
        "x= np.array([1,2,3,99,99,3,2,1])\n",
        "x"
      ],
      "metadata": {
        "colab": {
          "base_uri": "https://localhost:8080/"
        },
        "id": "FtY9wSFLwWt4",
        "outputId": "3d25da87-3f1f-4744-bb01-51e7408b22b5"
      },
      "execution_count": null,
      "outputs": [
        {
          "output_type": "execute_result",
          "data": {
            "text/plain": [
              "array([ 1,  2,  3, 99, 99,  3,  2,  1])"
            ]
          },
          "metadata": {},
          "execution_count": 26
        }
      ]
    },
    {
      "cell_type": "code",
      "execution_count": null,
      "metadata": {
        "colab": {
          "base_uri": "https://localhost:8080/"
        },
        "id": "VytdE1ENn38t",
        "outputId": "f06c9a65-c1ef-4e82-db2f-8056ceadfe63"
      },
      "outputs": [
        {
          "output_type": "execute_result",
          "data": {
            "text/plain": [
              "[array([1, 2, 3]), array([99, 99]), array([3, 2, 1])]"
            ]
          },
          "metadata": {},
          "execution_count": 29
        }
      ],
      "source": [
        "np.split(x,[3,5],axis=0)"
      ]
    },
    {
      "cell_type": "code",
      "source": [
        "len(np.slit)"
      ],
      "metadata": {
        "colab": {
          "base_uri": "https://localhost:8080/",
          "height": 287
        },
        "id": "Q6OLzIM0wqx6",
        "outputId": "38b3b3ce-a859-4975-e7ab-3ce3f41e8249"
      },
      "execution_count": null,
      "outputs": [
        {
          "output_type": "error",
          "ename": "AttributeError",
          "evalue": "ignored",
          "traceback": [
            "\u001b[0;31m---------------------------------------------------------------------------\u001b[0m",
            "\u001b[0;31mAttributeError\u001b[0m                            Traceback (most recent call last)",
            "\u001b[0;32m<ipython-input-30-0ec0b2819a0b>\u001b[0m in \u001b[0;36m<module>\u001b[0;34m()\u001b[0m\n\u001b[0;32m----> 1\u001b[0;31m \u001b[0mlen\u001b[0m\u001b[0;34m(\u001b[0m\u001b[0mnp\u001b[0m\u001b[0;34m.\u001b[0m\u001b[0mslit\u001b[0m\u001b[0;34m)\u001b[0m\u001b[0;34m\u001b[0m\u001b[0;34m\u001b[0m\u001b[0m\n\u001b[0m",
            "\u001b[0;32m/usr/local/lib/python3.7/dist-packages/numpy/__init__.py\u001b[0m in \u001b[0;36m__getattr__\u001b[0;34m(attr)\u001b[0m\n\u001b[1;32m    312\u001b[0m \u001b[0;34m\u001b[0m\u001b[0m\n\u001b[1;32m    313\u001b[0m             raise AttributeError(\"module {!r} has no attribute \"\n\u001b[0;32m--> 314\u001b[0;31m                                  \"{!r}\".format(__name__, attr))\n\u001b[0m\u001b[1;32m    315\u001b[0m \u001b[0;34m\u001b[0m\u001b[0m\n\u001b[1;32m    316\u001b[0m         \u001b[0;32mdef\u001b[0m \u001b[0m__dir__\u001b[0m\u001b[0;34m(\u001b[0m\u001b[0;34m)\u001b[0m\u001b[0;34m:\u001b[0m\u001b[0;34m\u001b[0m\u001b[0;34m\u001b[0m\u001b[0m\n",
            "\u001b[0;31mAttributeError\u001b[0m: module 'numpy' has no attribute 'slit'"
          ]
        }
      ]
    },
    {
      "cell_type": "code",
      "source": [],
      "metadata": {
        "id": "ZPyvkjHCwqwG"
      },
      "execution_count": null,
      "outputs": []
    },
    {
      "cell_type": "code",
      "source": [],
      "metadata": {
        "id": "wlWO4RURwquN"
      },
      "execution_count": null,
      "outputs": []
    },
    {
      "cell_type": "code",
      "source": [],
      "metadata": {
        "id": "B7GHGjHKwqrt"
      },
      "execution_count": null,
      "outputs": []
    },
    {
      "cell_type": "code",
      "source": [],
      "metadata": {
        "id": "_whVA3Vowqpe"
      },
      "execution_count": null,
      "outputs": []
    },
    {
      "cell_type": "code",
      "source": [],
      "metadata": {
        "id": "Ovmvkep9wqnY"
      },
      "execution_count": null,
      "outputs": []
    },
    {
      "cell_type": "code",
      "source": [],
      "metadata": {
        "id": "leY71n_7wqlT"
      },
      "execution_count": null,
      "outputs": []
    },
    {
      "cell_type": "code",
      "source": [],
      "metadata": {
        "id": "VUBsZHCEwqjH"
      },
      "execution_count": null,
      "outputs": []
    },
    {
      "cell_type": "markdown",
      "metadata": {
        "id": "olDhczYXn38t"
      },
      "source": [
        "If `indices_or_sections` is a 1-D array of sorted integers, the entries\n",
        "    indicate where along `axis` the array is split.  For example,\n",
        "    ``[3, 5]`` would, for ``axis=0``, result in\n",
        "- ``ary[:3]``\n",
        "- ``ary[3:5]``\n",
        "- ``ary[5:]``"
      ]
    },
    {
      "cell_type": "markdown",
      "metadata": {
        "id": "PWgl0S4On38w"
      },
      "source": [
        "The number of the elements ``should be divisible`` by 4, otherwise raises an error. If the argument (here is 4) is not enclosed by square brackets, then it means dividing into 4 pieces."
      ]
    },
    {
      "cell_type": "code",
      "execution_count": null,
      "metadata": {
        "id": "althvZ21n38w"
      },
      "outputs": [],
      "source": []
    },
    {
      "cell_type": "code",
      "execution_count": null,
      "metadata": {
        "id": "DvWDKaGdn38x"
      },
      "outputs": [],
      "source": []
    },
    {
      "cell_type": "markdown",
      "metadata": {
        "id": "9cyE8urjn38x"
      },
      "source": [
        "### <p style=\"background-color:#9d4f8c; font-family:newtimeroman; color:#FFF9ED; font-size:150%; text-align:LEFT; border-radius:10px 10px;\">2d Matrix</p>\n",
        "\n",
        "<a id=\"000.1\"></a>\n",
        "<a href=\"#toc\" class=\"btn btn-primary btn-sm\" role=\"button\" aria-pressed=\"true\" \n",
        "style=\"color:blue; background-color:#dfa8e4\" data-toggle=\"popover\">Content</a>"
      ]
    },
    {
      "cell_type": "code",
      "execution_count": null,
      "metadata": {
        "id": "JiSI8-LPn38y"
      },
      "outputs": [],
      "source": []
    },
    {
      "cell_type": "code",
      "execution_count": null,
      "metadata": {
        "id": "4JwhPQLMn38z"
      },
      "outputs": [],
      "source": []
    },
    {
      "cell_type": "markdown",
      "metadata": {
        "id": "TSVOf0CYn38z"
      },
      "source": [
        "## <p style=\"background-color:#9d4f8c; font-family:newtimeroman; color:#FFF9ED; font-size:175%; text-align:center; border-radius:10px 10px;\">Sorting of the Arrays</p>\n",
        "\n",
        "<a id=\"0000\"></a>\n",
        "<a href=\"#toc\" class=\"btn btn-primary btn-sm\" role=\"button\" aria-pressed=\"true\" \n",
        "style=\"color:blue; background-color:#dfa8e4\" data-toggle=\"popover\">Content</a>"
      ]
    },
    {
      "cell_type": "code",
      "execution_count": null,
      "metadata": {
        "id": "t0q6Geg-n380"
      },
      "outputs": [],
      "source": []
    },
    {
      "cell_type": "code",
      "execution_count": null,
      "metadata": {
        "id": "Qv8QQi7Hn381"
      },
      "outputs": [],
      "source": []
    },
    {
      "cell_type": "markdown",
      "metadata": {
        "id": "OG8_tMCin381"
      },
      "source": [
        "### <p style=\"background-color:#9d4f8c; font-family:newtimeroman; color:#FFF9ED; font-size:150%; text-align:LEFT; border-radius:10px 10px;\">2d Matrix</p>\n",
        "\n",
        "<a id=\"0000.1\"></a>\n",
        "<a href=\"#toc\" class=\"btn btn-primary btn-sm\" role=\"button\" aria-pressed=\"true\" \n",
        "style=\"color:blue; background-color:#dfa8e4\" data-toggle=\"popover\">Content</a>"
      ]
    },
    {
      "cell_type": "code",
      "execution_count": null,
      "metadata": {
        "id": "018WCwXgn382"
      },
      "outputs": [],
      "source": []
    },
    {
      "cell_type": "code",
      "execution_count": null,
      "metadata": {
        "id": "2jqyrhkpn382"
      },
      "outputs": [],
      "source": []
    },
    {
      "cell_type": "markdown",
      "metadata": {
        "id": "SaJzF_GeEOrr"
      },
      "source": [
        "## <p style=\"background-color:#9d4f8c; font-family:newtimeroman; color:#FFF9ED; font-size:175%; text-align:center; border-radius:10px 10px;\">Numpy Indexing & Selection</p>\n",
        "\n",
        "<a id=\"1\"></a>\n",
        "<a href=\"#toc\" class=\"btn btn-primary btn-sm\" role=\"button\" aria-pressed=\"true\" \n",
        "style=\"color:blue; background-color:#dfa8e4\" data-toggle=\"popover\">Content</a>"
      ]
    },
    {
      "cell_type": "markdown",
      "metadata": {
        "id": "5Tl1Drc3n383"
      },
      "source": [
        "In this part of the lecture we will discuss how to select elements or groups of elements from an array.\n",
        "\n",
        "Array indexing is the same as accessing an array element. You can access an array element by referring to its index number. The indexes in NumPy arrays start with 0, meaning that the first element has index 0, and the second has index 1 etc. [SOURCE](https://www.w3schools.com/python/numpy/numpy_array_indexing.asp)\n",
        "\n",
        "### ``Types of Indexing``\n",
        "\n",
        "There are **``two types of indexing:``**\n",
        "\n",
        "**``1 - Basic Slicing and indexing:``** Consider the syntax x[obj] where x is the array and obj is the index. Slice object is the index in case of basic slicing. Basic slicing occurs when obj is :\n",
        "- a slice object that is of the form start : stop : step\n",
        "- an integer\n",
        "- or a tuple of slice objects and integers\n",
        "\n",
        "**``2 - Advanced indexing:``** Advanced indexing is triggered when obj is –\n",
        "\n",
        "- an ndarray of type integer or Boolean\n",
        "- or a tuple with at least one sequence object\n",
        "- is a non tuple sequence object\n",
        "\n",
        "For more information, please visit [INDEXING SOURCE](https://www.geeksforgeeks.org/numpy-indexing/)\n",
        "\n",
        "\n",
        "[INDEXING & SLICING Source 01](https://jakevdp.github.io/PythonDataScienceHandbook/03.02-data-indexing-and-selection.html),\n",
        "[INDEXING & SLICING Source 02](https://www.kite.com/python/answers/how-to-select-an-element-by-index-from-a-numpy-array-in-python),\n",
        "[INDEXING & SLICING Source 03](https://numpy.org/doc/stable/reference/arrays.indexing.html),\n",
        "[INDEXING & SLICING Source 04](https://www.pluralsight.com/guides/working-numpy-arrays-indexing-slicing-guide),\n",
        "[INDEXING & SLICING Source 05](https://www.brainstobytes.com/hands-on-numpy-iii-indexing-and-slicing/),\n",
        "[INDEXING & SLICING Source 06](https://pandas.pydata.org/pandas-docs/version/1.2.4/user_guide/indexing.html),\n",
        "[INDEXING & SLICING Source 07](https://www.tutorialspoint.com/numpy/numpy_advanced_indexing.htm),\n",
        "[INDEXING & SLICING Source 08](https://towardsdatascience.com/numpy-indexing-explained-c376abb2440d),\n",
        "[INDEXING & SLICING Video Source 01](https://www.pythoninformer.com/python-libraries/numpy/index-and-slice/),\n",
        "[INDEXING & SLICING Video Source 02](https://www.youtube.com/watch?v=9nbBTaz2qXI),\n",
        "[INDEXING & SLICING Video Source 03](https://www.youtube.com/watch?v=9nbBTaz2qXI) &\n",
        "[INDEXING & SLICING Video Source 03](https://www.youtube.com/watch?v=E1OFcMnU40o)"
      ]
    },
    {
      "cell_type": "code",
      "execution_count": null,
      "metadata": {
        "id": "AFhllqjon384"
      },
      "outputs": [],
      "source": []
    },
    {
      "cell_type": "code",
      "execution_count": null,
      "metadata": {
        "id": "fqoFwh79n385"
      },
      "outputs": [],
      "source": []
    },
    {
      "cell_type": "markdown",
      "metadata": {
        "id": "mNljteUtEOru"
      },
      "source": [
        "### <p style=\"background-color:#9d4f8c; font-family:newtimeroman; color:#FFF9ED; font-size:150%; text-align:LEFT; border-radius:10px 10px;\">Bracket Indexing & Selection</p>\n",
        "\n",
        "<a id=\"1.1\"></a>\n",
        "<a href=\"#toc\" class=\"btn btn-primary btn-sm\" role=\"button\" aria-pressed=\"true\" \n",
        "style=\"color:blue; background-color:#dfa8e4\" data-toggle=\"popover\">Content</a>\n",
        "\n",
        "The simplest way to pick one or some elements of an array looks very similar to python lists:"
      ]
    },
    {
      "cell_type": "code",
      "execution_count": null,
      "metadata": {
        "id": "tKNtw5U8n386"
      },
      "outputs": [],
      "source": []
    },
    {
      "cell_type": "code",
      "execution_count": null,
      "metadata": {
        "id": "SXNFEAyPn386"
      },
      "outputs": [],
      "source": []
    },
    {
      "cell_type": "markdown",
      "metadata": {
        "id": "VlEYvXtHEOr1"
      },
      "source": [
        "### <p style=\"background-color:#9d4f8c; font-family:newtimeroman; color:#FFF9ED; font-size:150%; text-align:LEFT; border-radius:10px 10px;\">Indexing a 2D Array (Matrices)</p>\n",
        "\n",
        "<a id=\"1.2\"></a>\n",
        "<a href=\"#toc\" class=\"btn btn-primary btn-sm\" role=\"button\" aria-pressed=\"true\" \n",
        "style=\"color:blue; background-color:#dfa8e4\" data-toggle=\"popover\">Content</a>\n",
        "\n",
        "<p>The general format is <b>arr_2d[row][col]</b> or <b>arr_2d[row, col]</b>.<br> \n",
        "It's usually recommended using the comma notation for clarity.</p>\n",
        "\n",
        "![image.png](https://i.ibb.co/pvdHbBm/numpy-index.png)\n",
        "\n",
        "![image-2.png](https://i.ibb.co/jJPp6hk/numpy-indexing2.png)\n",
        "\n",
        "[SOURCE01](https://www.google.com/url?sa=i&url=https%3A%2F%2Fmedium.com%2F%40msjahid%2Fnumpy-array-indexing-slicing-23b70abb8433&psig=AOvVaw2ETiXFpQ-F-d0CMV8jD1dJ&ust=1644053862804000&source=images&cd=vfe&ved=0CAwQjhxqFwoTCIDj5JXg5fUCFQAAAAAdAAAAABAk), [SOURCE02](https://www.google.com/url?sa=i&url=https%3A%2F%2Fiq.opengenus.org%2F2d-array-in-numpy%2F&psig=AOvVaw2ETiXFpQ-F-d0CMV8jD1dJ&ust=1644053862804000&source=images&cd=vfe&ved=0CAwQjhxqFwoTCIDj5JXg5fUCFQAAAAAdAAAAABAp)<br>"
      ]
    },
    {
      "cell_type": "code",
      "execution_count": null,
      "metadata": {
        "id": "MEqyHCCdn387"
      },
      "outputs": [],
      "source": [
        "arr_2d = np.array([[5, 10, 15], [20, 25, 30], [35, 40, 45]])\n",
        "\n",
        "arr_2d"
      ]
    },
    {
      "cell_type": "code",
      "execution_count": null,
      "metadata": {
        "id": "4kstx9V0n387"
      },
      "outputs": [],
      "source": []
    },
    {
      "cell_type": "markdown",
      "metadata": {
        "id": "EVxMFux3n387"
      },
      "source": [
        "### <p style=\"background-color:#9d4f8c; font-family:newtimeroman; color:#FFF9ED; font-size:150%; text-align:LEFT; border-radius:10px 10px;\">Slicing a 2D Array (Matrices)</p>\n",
        "\n",
        "<a id=\"1.3\"></a>\n",
        "<a href=\"#toc\" class=\"btn btn-primary btn-sm\" role=\"button\" aria-pressed=\"true\" \n",
        "style=\"color:blue; background-color:#dfa8e4\" data-toggle=\"popover\">Content</a>\n",
        "\n",
        "If you know how to select subsets of Python lists, you know most of what you need to know about ndarray slicing. The elements of the array being indexed that correspond to the elements of the indexing object are returned in a new array. The most important aspect of indexing is to remember that there is more than one dimension, and the indexing method should be able to handle these other dimensions.\n",
        "\n",
        "![image-2.png](https://i.ibb.co/64DGhj7/Numpy-index.jpg)\n",
        "\n",
        "[SOURCE](https://www.google.com/url?sa=i&url=https%3A%2F%2Fstackoverflow.com%2Fquestions%2F16096753%2Fpython-array-slicing-how-can-2d-array-slicing-be-implemented&psig=AOvVaw0cHqeY-itYpRm19imsEBuR&ust=1644054927553000&source=images&cd=vfe&ved=0CAwQjhxqFwoTCNiUt4vk5fUCFQAAAAAdAAAAABAD)"
      ]
    },
    {
      "cell_type": "code",
      "execution_count": null,
      "metadata": {
        "id": "1rNzWWcHn388"
      },
      "outputs": [],
      "source": []
    },
    {
      "cell_type": "code",
      "execution_count": null,
      "metadata": {
        "id": "XtjCdAZ4n389"
      },
      "outputs": [],
      "source": []
    },
    {
      "cell_type": "markdown",
      "metadata": {
        "id": "Hjyd3uo3EOr3"
      },
      "source": [
        "### <p style=\"background-color:#9d4f8c; font-family:newtimeroman; color:#FFF9ED; font-size:150%; text-align:LEFT; border-radius:10px 10px;\">Fancy Indexing</p>\n",
        "\n",
        "<a id=\"1.4\"></a>\n",
        "<a href=\"#toc\" class=\"btn btn-primary btn-sm\" role=\"button\" aria-pressed=\"true\" \n",
        "style=\"color:blue; background-color:#dfa8e4\" data-toggle=\"popover\">Content</a>\n",
        "\n",
        "Fancy indexing is conceptually simple: it means passing an array of indices to access multiple array elements at once [SOURCE](https://jakevdp.github.io/PythonDataScienceHandbook/02.07-fancy-indexing.html#:~:text=Fancy%20indexing%20is%20conceptually%20simple,random.). In Fancy Indexing, we pass array of indices instead of single scalar(numbers) to fetch elements at different index points. Remember that the shape of the output depends on the shape of the index arrays rather than the shape of the array being indexed. [SOURCE01](https://www.google.com/url?sa=i&url=https%3A%2F%2Ftahamaddam.com%2Fcoding%2Fnumpy%2Fnumpy-fancy-indexing%2F&psig=AOvVaw3D06ReHkWL4NNeBSEHNddn&ust=1644055555472000&source=images&cd=vfe&ved=0CAwQjhxqFwoTCPDY4bTm5fUCFQAAAAAdAAAAABAD), [SOURCE02](https://www.google.com/url?sa=i&url=https%3A%2F%2Fstackoverflow.com%2Fquestions%2F52485840%2Fnumpy-fancy-indexing-with-tuples%3Frq%3D1&psig=AOvVaw3D06ReHkWL4NNeBSEHNddn&ust=1644055555472000&source=images&cd=vfe&ved=0CAwQjhxqFwoTCPDY4bTm5fUCFQAAAAAdAAAAABAO), [VIDEO SOURCE](https://www.youtube.com/watch?v=WpXH4PzDtYA)\n",
        "\n",
        "Fancy indexing allows you to select entire rows or columns out of order, to show this, let's quickly build out a numpy array:"
      ]
    },
    {
      "cell_type": "code",
      "execution_count": null,
      "metadata": {
        "id": "sWir0uMEn389"
      },
      "outputs": [],
      "source": []
    },
    {
      "cell_type": "code",
      "execution_count": null,
      "metadata": {
        "id": "8zvr0vZPn38-"
      },
      "outputs": [],
      "source": []
    },
    {
      "cell_type": "markdown",
      "metadata": {
        "id": "ZTDDLbAIEOr6"
      },
      "source": [
        "Fancy indexing allows the following"
      ]
    },
    {
      "cell_type": "code",
      "execution_count": null,
      "metadata": {
        "id": "NbeUasyDn38-"
      },
      "outputs": [],
      "source": []
    },
    {
      "cell_type": "markdown",
      "metadata": {
        "id": "uF0orNo5EOr6"
      },
      "source": [
        "<h3>any_array[[row indices], [column indices]]</h3>"
      ]
    },
    {
      "cell_type": "code",
      "execution_count": null,
      "metadata": {
        "id": "u9LaKNqrn38_"
      },
      "outputs": [],
      "source": []
    },
    {
      "cell_type": "markdown",
      "metadata": {
        "id": "nnT2nQpmEOr7"
      },
      "source": [
        "### <p style=\"background-color:#9d4f8c; font-family:newtimeroman; color:#FFF9ED; font-size:150%; text-align:LEFT; border-radius:10px 10px;\">Using ***Basic Index*** & ***Fancy Index*** Together</p>\n",
        "\n",
        "<a id=\"1.5\"></a>\n",
        "<a href=\"#toc\" class=\"btn btn-primary btn-sm\" role=\"button\" aria-pressed=\"true\" \n",
        "style=\"color:blue; background-color:#dfa8e4\" data-toggle=\"popover\">Content</a>\n",
        "\n"
      ]
    },
    {
      "cell_type": "code",
      "execution_count": null,
      "metadata": {
        "id": "l2e6ppfYn38_"
      },
      "outputs": [],
      "source": []
    },
    {
      "cell_type": "markdown",
      "metadata": {
        "id": "V9EwT91qEOr8"
      },
      "source": [
        "### <p style=\"background-color:#9d4f8c; font-family:newtimeroman; color:#FFF9ED; font-size:150%; text-align:LEFT; border-radius:10px 10px;\">Using ***Basic Slicing*** & ***Fancy Index*** Together</p>\n",
        "\n",
        "<a id=\"1.6\"></a>\n",
        "<a href=\"#toc\" class=\"btn btn-primary btn-sm\" role=\"button\" aria-pressed=\"true\" \n",
        "style=\"color:blue; background-color:#dfa8e4\" data-toggle=\"popover\">Content</a>\n"
      ]
    },
    {
      "cell_type": "code",
      "execution_count": null,
      "metadata": {
        "id": "20UHLBiNn39O"
      },
      "outputs": [],
      "source": []
    },
    {
      "cell_type": "markdown",
      "metadata": {
        "id": "StVz_DG2EOr8"
      },
      "source": [
        "### <p style=\"background-color:#9d4f8c; font-family:newtimeroman; color:#FFF9ED; font-size:150%; text-align:LEFT; border-radius:10px 10px;\">More Indexing Help</p>\n",
        "\n",
        "<a id=\"1.7\"></a>\n",
        "<a href=\"#toc\" class=\"btn btn-primary btn-sm\" role=\"button\" aria-pressed=\"true\" \n",
        "style=\"color:blue; background-color:#dfa8e4\" data-toggle=\"popover\">Content</a>\n",
        "\n",
        "\n",
        "Indexing a 2d matrix can be a bit confusing at first, especially when you start to add in step size. Try google image searching NumPy indexing to find useful images.\n",
        "\n",
        "![image.png](https://i.ibb.co/xmcGm9C/numpy-index1.png)\n",
        "\n",
        "[SOURCE](https://www.google.com/url?sa=i&url=https%3A%2F%2Fscipy-lectures.org%2Fintro%2Fnumpy%2Farray_object.html&psig=AOvVaw21eb1iMrmWndUhejWXLkY-&ust=1644056657663000&source=images&cd=vfe&ved=0CAwQjhxqFwoTCICAqr_q5fUCFQAAAAAdAAAAABAD)\n",
        "\n",
        "Numpy arrays can be indexed with slices, but also with boolean or integer arrays (masks). This method is called fancy indexing. It creates copies not views. [SOURCE](http://cs-tklab.na-inet.jp/~tkouya/python/scipy-lectures/intro/numpy/array_object.html)\n",
        "\n",
        "![image-2.png](https://i.ibb.co/bHYsGLb/numpy-indexing-1.png)"
      ]
    },
    {
      "cell_type": "markdown",
      "metadata": {
        "id": "PuAMbPrhEOr8"
      },
      "source": [
        "## <p style=\"background-color:#9d4f8c; font-family:newtimeroman; color:#FFF9ED; font-size:175%; text-align:center; border-radius:10px 10px;\">Selection on a Condition</p>\n",
        "\n",
        "<a id=\"2\"></a>\n",
        "<a href=\"#toc\" class=\"btn btn-primary btn-sm\" role=\"button\" aria-pressed=\"true\" \n",
        "style=\"color:blue; background-color:#dfa8e4\" data-toggle=\"popover\">Content</a>\n",
        "\n",
        "Let's briefly go over how to use brackets for selection based off of comparison operators."
      ]
    },
    {
      "cell_type": "code",
      "execution_count": null,
      "metadata": {
        "id": "95DUbuzan39Q"
      },
      "outputs": [],
      "source": []
    },
    {
      "cell_type": "markdown",
      "metadata": {
        "id": "q2LJLRlxEOrx"
      },
      "source": [
        "## <p style=\"background-color:#9d4f8c; font-family:newtimeroman; color:#FFF9ED; font-size:175%; text-align:center; border-radius:10px 10px;\">Broadcasting</p>\n",
        "\n",
        "<a id=\"3\"></a>\n",
        "<a href=\"#toc\" class=\"btn btn-primary btn-sm\" role=\"button\" aria-pressed=\"true\" \n",
        "style=\"color:blue; background-color:#dfa8e4\" data-toggle=\"popover\">Content</a>\n",
        "\n",
        "Numpy arrays differ from a normal Python list because of their ability to broadcast [SOURCE](https://numpy.org/doc/stable/user/theory.broadcasting.html).<br>\n",
        "\n",
        "**``Broadcasting``** is the name given to the method that NumPy uses to allow array arithmetic between arrays with a different shape or size [SOURCE](https://machinelearningmastery.com/broadcasting-with-numpy-arrays/#:~:text=Broadcasting%20is%20the%20name%20given,a%20different%20shape%20or%20size.&text=Subject%20to%20certain%20constraints%2C%20the,that%20they%20have%20compatible%20shapes.).<br>\n",
        "\n",
        "The term broadcasting describes how numpy treats arrays with different shapes during arithmetic operations. Subject to certain constraints, the smaller array is **``broadcast``** across the larger array so that they have compatible shapes. Broadcasting provides a means of vectorizing array operations so that looping occurs in C instead of Python. It does this without making needless copies of data and usually leads to efficient algorithm implementations. There are, however, cases where broadcasting is a bad idea because it leads to inefficient use of memory that slows computation [SOURCE](https://docs.scipy.org/doc/numpy-1.13.0/user/basics.broadcasting.html).<br> \n",
        "\n",
        "Broadcasting is an operation of matching the dimensions of differently shaped arrays in order to be able to perform further operations on those arrays (eg per-element aritmetic) [SOURCE01](https://towardsdatascience.com/broadcasting-in-numpy-58856f926d73), [SOURCE02](https://towardsdatascience.com/a-numpy-affair-broadcasting-ead20d9661f).<br>\n",
        "\n",
        "**NumPy Broadcasting Limitations**<br>\n",
        "Broadcasting is a very easy and handy tool when working with Numpy arrays. Although, there are many rules and restrictions to perform the operations.\n",
        "\n",
        "There are constraints on the dimension and shape of the arrays. We can perform broadcasting in cases where both the arrays have the same shape or only if either of the two has a size of 1. Also, we have to consider the dimensions in reverse order. We count it from the trailing dimension [SOURCE](https://data-flair.training/blogs/numpy-broadcasting/).<br>\n",
        "\n",
        "Be informed about the discussion on [When broadcasting is a bad idea? (numpy)](https://stackoverflow.com/questions/47309818/when-broadcasting-is-a-bad-idea-numpy) at Stackoverflow.\n",
        "\n",
        "More Sources: [SOURCE01](https://inblog.in/Broadcasting-in-Numpy-A-Complete-Guide-jfKy2vzHiY), [SOURCE02](https://www.pluralsight.com/guides/broadcasting-numpy-arrays-arithmeetic-operations), [SOURCE03](https://www.geeksforgeeks.org/python-broadcasting-with-numpy-arrays/), [SOURCE04](https://www.askpython.com/python-modules/numpy/numpy-broadcasting), [SOURCE05](https://stackoverflow.com/questions/32832923/numpy-what-is-broadcasting), [SOURCE06](https://stackoverflow.com/questions/61090539/how-can-i-use-broadcasting-with-numpy-to-speed-up-this-correlation-calculation), [SOURCE07](https://stackoverflow.com/questions/68185016/numpy-broadcasting-two-arrays-of-different-shape-to-matrix), [SOURCE08](https://stackoverflow.com/questions/50569344/broadcasting-using-numpys-sum-function)"
      ]
    },
    {
      "cell_type": "markdown",
      "metadata": {
        "id": "DRMk8hpoEOr0"
      },
      "source": [
        "Now **``note``** that the changes also occur in our original array!"
      ]
    },
    {
      "cell_type": "code",
      "execution_count": null,
      "metadata": {
        "id": "lxgdUdC8n39V"
      },
      "outputs": [],
      "source": []
    },
    {
      "cell_type": "markdown",
      "metadata": {
        "id": "erHJLMDVEOr0"
      },
      "source": [
        "Data is not copied, it's a view of the original array! This avoids memory problems!"
      ]
    },
    {
      "cell_type": "code",
      "execution_count": null,
      "metadata": {
        "id": "fY-JeABvn39X"
      },
      "outputs": [],
      "source": []
    },
    {
      "cell_type": "markdown",
      "metadata": {
        "id": "5ZSc-mkWEOr9"
      },
      "source": [
        "## <p style=\"background-color:#9d4f8c; font-family:newtimeroman; color:#FFF9ED; font-size:175%; text-align:center; border-radius:10px 10px;\">Numpy Operations</p>\n",
        "\n",
        "<a id=\"4\"></a>\n",
        "<a href=\"#toc\" class=\"btn btn-primary btn-sm\" role=\"button\" aria-pressed=\"true\" \n",
        "style=\"color:blue; background-color:#dfa8e4\" data-toggle=\"popover\">Content</a>\n",
        "\n",
        "![image.png](https://i.ibb.co/n65mpTL/numpy-operations.png)"
      ]
    },
    {
      "cell_type": "code",
      "execution_count": null,
      "metadata": {
        "id": "L7OE6Tuqn39Z"
      },
      "outputs": [],
      "source": []
    },
    {
      "cell_type": "code",
      "execution_count": null,
      "metadata": {
        "id": "yKY1LyD4n39a"
      },
      "outputs": [],
      "source": []
    },
    {
      "cell_type": "code",
      "execution_count": null,
      "metadata": {
        "id": "-AuwUm6Qn39d"
      },
      "outputs": [],
      "source": []
    },
    {
      "cell_type": "code",
      "execution_count": null,
      "metadata": {
        "id": "0uSYAXRIn39e"
      },
      "outputs": [],
      "source": []
    },
    {
      "cell_type": "markdown",
      "metadata": {
        "id": "WpQVMB3xEOsF"
      },
      "source": [
        "### <p style=\"background-color:#9d4f8c; font-family:newtimeroman; color:#FFF9ED; font-size:150%; text-align:LEFT; border-radius:10px 10px;\">Statistical Calculations</p>\n",
        "\n",
        "<a id=\"4.3\"></a>\n",
        "<a href=\"#toc\" class=\"btn btn-primary btn-sm\" role=\"button\" aria-pressed=\"true\" \n",
        "style=\"color:blue; background-color:#dfa8e4\" data-toggle=\"popover\">Content</a>\n",
        "\n",
        "Statistics is concerned with collecting and then analyzing that data. It includes methods for collecting the samples, describing the data, and then concluding that data. NumPy is the fundamental package for scientific calculations and hence goes hand-in-hand for NumPy statistical Functions.\n",
        "\n",
        "NumPy contains various statistical functions that are used to perform statistical data analysis. These statistical functions are useful when finding a maximum or minimum of elements. It is also used to find basic statistical concepts like standard deviation, variance, etc.\n",
        "\n",
        "NumPy is equipped with the following statistical functions:\n",
        "\n",
        "**``np.amin(arr)``** This function determines the minimum value of the element along a specified axis.<br>\n",
        "**``np.amax(arr)``** This function determines the maximum value of the element along a specified axis.<br>\n",
        "**``arr.min()``** Returns minimum value of arr<br>\n",
        "**``arr.max(axis=0)``** Returns maximum value of specific axis<br>\n",
        "**``np.mean(arr, axis=0)``** It determines the mean value of the data set.<br>\n",
        "**``np.median(arr)``** It determines the median value of the data set.<br>\n",
        "**``np.std(arr, axis=1)``** It determines the standard deviation.<br>\n",
        "**``np.var(arr)``** It determines the variance.<br>\n",
        "**``np.ptp(arr)``** It returns a range of values (maximum - minimum) along an axis.<br>\n",
        "**``np.average(arr)``** It determines the weighted average.<br>\n",
        "**``np.percentile(arr)``** It determines the nth percentile of data along the specified axis.<br>\n",
        "**``np.corrcoef(arr)``** Returns correlation coefficient of array\n",
        "\n",
        "More Sources: [SOURCE01](https://data-flair.training/blogs/numpy-statistical-functions/), [SOURCE02](https://python-tricks.com/statistical-functions-in-numpy/), [SOURCE03](https://numpy.org/doc/stable/reference/routines.statistics.html), [SOURCE04](https://www.tutorialspoint.com/numpy/numpy_statistical_functions.htm), [SOURCE05](https://www.i2tutorials.com/numpy-tutorial/numpy-statistical-functions/), [SOURCE06](https://towardsdatascience.com/use-numpy-for-statistics-and-arithmetic-operations-in-2020-2e157b784df4), [SOURCE07](https://cloudxlab.com/assessment/displayslide/2509/numpy-mathematical-and-statistical-functions-on-numpy-arrays), [SOURCE08](https://stackoverflow.com/questions/63888139/calculating-some-statistics-for-each-column-of-a-numpy-ndarray), [SOURCE09](https://www.codecademy.com/learn/intro-statistics-numpy)"
      ]
    },
    {
      "cell_type": "code",
      "execution_count": null,
      "metadata": {
        "id": "-1t0IvWzn39f",
        "colab": {
          "base_uri": "https://localhost:8080/"
        },
        "outputId": "30d47230-ddf1-456c-e72c-4a72ac85a499"
      },
      "outputs": [
        {
          "output_type": "stream",
          "name": "stdout",
          "text": [
            "[10, 9, 8, 7, 6, 5, 4, 3, 2, 1, 0]\n"
          ]
        }
      ],
      "source": [
        "numbers = range(11)\n",
        "my_list = list(numbers)\n",
        "my_list.sort(reverse=True)\n",
        "print(my_list)\n",
        "\n",
        "\n",
        "\n",
        "  \n",
        "  \n",
        "  \n",
        "\n"
      ]
    },
    {
      "cell_type": "code",
      "source": [
        "colors = [\"red\", (\"blue\", [\"yellow\", \"green\"]), \"pink\"]\n",
        "print(colors[1])"
      ],
      "metadata": {
        "colab": {
          "base_uri": "https://localhost:8080/"
        },
        "id": "_PXrgB9xBwKi",
        "outputId": "480e7490-2699-4d2f-8b22-40ed75ff981a"
      },
      "execution_count": null,
      "outputs": [
        {
          "output_type": "stream",
          "name": "stdout",
          "text": [
            "('blue', ['yellow', 'green'])\n"
          ]
        }
      ]
    },
    {
      "cell_type": "code",
      "source": [
        "student_ages = {\"Harry\": 29,\n",
        "                \"Clark\": 32,\n",
        "                \"Peter\": 22,\n",
        "                \"Bruce\": 36\n",
        "                }\n",
        "\n",
        "print(student_ages[\"Clark\"])"
      ],
      "metadata": {
        "colab": {
          "base_uri": "https://localhost:8080/"
        },
        "id": "jzS61qBhBwIv",
        "outputId": "1260eb3c-f647-48a2-d3a4-3f3c6c3f9134"
      },
      "execution_count": null,
      "outputs": [
        {
          "output_type": "stream",
          "name": "stdout",
          "text": [
            "32\n"
          ]
        }
      ]
    },
    {
      "cell_type": "code",
      "source": [
        "numbers_10 = [10, 30, 40, 50, 60, 70, 80, 90, 100]\n",
        "numbers_10.insert(1,20)\n",
        "print(numbers_10)"
      ],
      "metadata": {
        "colab": {
          "base_uri": "https://localhost:8080/"
        },
        "id": "UOySFrZQBwGq",
        "outputId": "77087391-a4d8-417f-a0ef-a20be151e551"
      },
      "execution_count": null,
      "outputs": [
        {
          "output_type": "stream",
          "name": "stdout",
          "text": [
            "[10, 20, 30, 40, 50, 60, 70, 80, 90, 100]\n"
          ]
        }
      ]
    },
    {
      "cell_type": "code",
      "source": [
        "family_members = ['Meghan', 'Tom', 'Nicole', 'Tim']\n",
        "print(tuple(family_members))"
      ],
      "metadata": {
        "colab": {
          "base_uri": "https://localhost:8080/"
        },
        "id": "L2dzA4NZBwEZ",
        "outputId": "b1aa643b-93fe-44d0-f81e-f743b70382c2"
      },
      "execution_count": null,
      "outputs": [
        {
          "output_type": "stream",
          "name": "stdout",
          "text": [
            "('Meghan', 'Tom', 'Nicole', 'Tim')\n"
          ]
        }
      ]
    },
    {
      "cell_type": "code",
      "source": [],
      "metadata": {
        "id": "RkpEwXjWBwCS"
      },
      "execution_count": null,
      "outputs": []
    },
    {
      "cell_type": "code",
      "source": [],
      "metadata": {
        "id": "TTa7UWHkBwAJ"
      },
      "execution_count": null,
      "outputs": []
    },
    {
      "cell_type": "code",
      "source": [
        "from google.colab import drive\n",
        "drive.mount('/content/drive')"
      ],
      "metadata": {
        "id": "1lHONIhdZOnk"
      },
      "execution_count": null,
      "outputs": []
    },
    {
      "cell_type": "code",
      "source": [],
      "metadata": {
        "id": "gE-CxqrkSCTc"
      },
      "execution_count": null,
      "outputs": []
    },
    {
      "cell_type": "code",
      "execution_count": null,
      "metadata": {
        "id": "TCpMKhppn39f",
        "colab": {
          "base_uri": "https://localhost:8080/"
        },
        "outputId": "7f94d557-c08b-42aa-a272-eb38cc98f829"
      },
      "outputs": [
        {
          "output_type": "execute_result",
          "data": {
            "text/plain": [
              "16"
            ]
          },
          "metadata": {},
          "execution_count": 1
        }
      ],
      "source": [
        "33//2"
      ]
    },
    {
      "cell_type": "code",
      "source": [
        "pwd\n"
      ],
      "metadata": {
        "id": "gP9Y9YmfX80L"
      },
      "execution_count": null,
      "outputs": []
    },
    {
      "cell_type": "code",
      "source": [
        "with open(\"rumi.txt\",\"r\", encoding=\"utf-8\") as rumi :\n",
        "  print(rumi.read(33))\n",
        "  print(rumi.read(15))\n",
        "\n",
        "  rumi.seek(0)\n",
        "\n",
        "  print(rumi.read(33))\n",
        "  print(rumi.tell())"
      ],
      "metadata": {
        "colab": {
          "base_uri": "https://localhost:8080/"
        },
        "id": "5eMb0L7LXHaD",
        "outputId": "e6d79596-be41-4e72-f0de-44b4976dc778"
      },
      "execution_count": null,
      "outputs": [
        {
          "output_type": "stream",
          "name": "stdout",
          "text": [
            "I want to sing\n",
            "Like the birds sin\n",
            "g,\n",
            "Not worrying\n",
            "I want to sing\n",
            "Like the birds sin\n",
            "34\n"
          ]
        }
      ]
    },
    {
      "cell_type": "code",
      "source": [
        "with open(\"rumi.txt\",\"r\", encoding=\"utf-8\") as rumi :\n",
        "\n",
        "  print(rumi.readline())\n",
        "  print(rumi.readline())\n",
        "  print(rumi.readline(50))     #readline komutu sadece satirda islem yapar\n",
        "                              #read yaparsan metnin tamaminda islem yaparsin"
      ],
      "metadata": {
        "id": "7Z7TjdStXHX8",
        "colab": {
          "base_uri": "https://localhost:8080/"
        },
        "outputId": "df0e893d-af75-42cd-87ac-0fbfd21fdb72"
      },
      "execution_count": null,
      "outputs": [
        {
          "output_type": "stream",
          "name": "stdout",
          "text": [
            "I want to sing\n",
            "\n",
            "Like the birds sing,\n",
            "\n",
            "Not worrying about\n",
            "\n"
          ]
        }
      ]
    },
    {
      "cell_type": "code",
      "source": [
        "ls\n"
      ],
      "metadata": {
        "id": "gcz3E5MYXHVz",
        "colab": {
          "base_uri": "https://localhost:8080/"
        },
        "outputId": "33010667-2f9a-4f4d-a669-5914378034fe"
      },
      "execution_count": null,
      "outputs": [
        {
          "output_type": "stream",
          "name": "stdout",
          "text": [
            "fishes.txt  rumi.txt  \u001b[0m\u001b[01;34msample_data\u001b[0m/\n"
          ]
        }
      ]
    },
    {
      "cell_type": "code",
      "source": [
        "import os\n"
      ],
      "metadata": {
        "id": "CzusA4hkXHTs"
      },
      "execution_count": null,
      "outputs": []
    },
    {
      "cell_type": "code",
      "source": [
        "os.listdir()"
      ],
      "metadata": {
        "id": "N0HJ9V2dXHRi",
        "colab": {
          "base_uri": "https://localhost:8080/"
        },
        "outputId": "51f469a2-b7c6-48b3-ce5d-a6ece1b16b23"
      },
      "execution_count": null,
      "outputs": [
        {
          "output_type": "execute_result",
          "data": {
            "text/plain": [
              "['.config', 'fishes.txt', 'rumi.txt', 'sample_data']"
            ]
          },
          "metadata": {},
          "execution_count": 14
        }
      ]
    },
    {
      "cell_type": "code",
      "source": [
        "import shutil"
      ],
      "metadata": {
        "id": "eCRI52dFXHPR"
      },
      "execution_count": null,
      "outputs": []
    },
    {
      "cell_type": "code",
      "source": [
        "shutil.make_archive(\"dosyalar_zip\",\"zip\",\"dosyalar1\")"
      ],
      "metadata": {
        "colab": {
          "base_uri": "https://localhost:8080/",
          "height": 38
        },
        "id": "TAtgT0tpbZWl",
        "outputId": "58b22a03-6a1e-4cd2-a9ff-2bedae572d37"
      },
      "execution_count": null,
      "outputs": [
        {
          "output_type": "execute_result",
          "data": {
            "text/plain": [
              "'/content/dosyalar_zip.zip'"
            ],
            "application/vnd.google.colaboratory.intrinsic+json": {
              "type": "string"
            }
          },
          "metadata": {},
          "execution_count": 23
        }
      ]
    },
    {
      "cell_type": "code",
      "source": [
        "with open(\"fishes.txt\" , \"r\" , encoding=\"utf-8\") as file :\n",
        "  fish = file.readlines()\n",
        "  "
      ],
      "metadata": {
        "id": "oFCa76MrbZUc"
      },
      "execution_count": null,
      "outputs": []
    },
    {
      "cell_type": "code",
      "source": [
        "fish"
      ],
      "metadata": {
        "colab": {
          "base_uri": "https://localhost:8080/"
        },
        "id": "fcPQ9s6KbZSG",
        "outputId": "63fabf71-305a-44bd-ad72-fed9eac4cbf7"
      },
      "execution_count": null,
      "outputs": [
        {
          "output_type": "execute_result",
          "data": {
            "text/plain": [
              "['Orca is a kind of Dolphin.\\n',\n",
              " 'Blue Whale is the largest animal known on earth.\\n',\n",
              " 'Sharks are the sister group to the Rays (batoids).\\n',\n",
              " 'The Tuna Fish can weigh up to 260 kg.\\n',\n",
              " 'Squid and Octopus are in the same class.']"
            ]
          },
          "metadata": {},
          "execution_count": 31
        }
      ]
    },
    {
      "cell_type": "code",
      "source": [
        "type(fish)"
      ],
      "metadata": {
        "colab": {
          "base_uri": "https://localhost:8080/"
        },
        "id": "hl12vOBfbZQA",
        "outputId": "f09c6adb-e64a-4ad5-fdc6-a074890e01d2"
      },
      "execution_count": null,
      "outputs": [
        {
          "output_type": "execute_result",
          "data": {
            "text/plain": [
              "list"
            ]
          },
          "metadata": {},
          "execution_count": 32
        }
      ]
    },
    {
      "cell_type": "code",
      "source": [
        "for line in fish:\n",
        "  print(line)"
      ],
      "metadata": {
        "colab": {
          "base_uri": "https://localhost:8080/"
        },
        "id": "6n0Qa6M4bZNj",
        "outputId": "00220d3e-7a26-45f5-ad11-fed73dad6144"
      },
      "execution_count": null,
      "outputs": [
        {
          "output_type": "stream",
          "name": "stdout",
          "text": [
            "Orca is a kind of Dolphin.\n",
            "\n",
            "Blue Whale is the largest animal known on earth.\n",
            "\n",
            "Sharks are the sister group to the Rays (batoids).\n",
            "\n",
            "The Tuna Fish can weigh up to 260 kg.\n",
            "\n",
            "Squid and Octopus are in the same class.\n"
          ]
        }
      ]
    },
    {
      "cell_type": "code",
      "source": [],
      "metadata": {
        "id": "lm5YBwHdbZEz"
      },
      "execution_count": null,
      "outputs": []
    },
    {
      "cell_type": "code",
      "source": [],
      "metadata": {
        "id": "bzHBNcPFd5UL"
      },
      "execution_count": null,
      "outputs": []
    },
    {
      "cell_type": "code",
      "source": [],
      "metadata": {
        "id": "cchQVWxJd5SU"
      },
      "execution_count": null,
      "outputs": []
    },
    {
      "cell_type": "code",
      "source": [],
      "metadata": {
        "id": "tuAG9BnUd5QR"
      },
      "execution_count": null,
      "outputs": []
    },
    {
      "cell_type": "code",
      "source": [],
      "metadata": {
        "id": "msR3px5Md5OJ"
      },
      "execution_count": null,
      "outputs": []
    },
    {
      "cell_type": "code",
      "source": [],
      "metadata": {
        "id": "y4wF5sx7d5L0"
      },
      "execution_count": null,
      "outputs": []
    },
    {
      "cell_type": "code",
      "source": [
        "money=1000\n",
        "day_kar=(money*7)/100\n",
        "new_money=money+day_kar\n",
        "new_money"
      ],
      "metadata": {
        "id": "yI3IGyKSd5Jl",
        "colab": {
          "base_uri": "https://localhost:8080/"
        },
        "outputId": "139c1d6a-9121-46ca-cb1e-447255289eec"
      },
      "execution_count": null,
      "outputs": [
        {
          "output_type": "execute_result",
          "data": {
            "text/plain": [
              "1070.0"
            ]
          },
          "metadata": {},
          "execution_count": 3
        }
      ]
    },
    {
      "cell_type": "code",
      "source": [
        "money=1000\n",
        "day=0\n",
        "\n",
        "\n",
        "for i in range(money) :\n",
        "  i = i + (i*7/100)\n",
        "  for a in range(day):\n",
        "    a = a + 1\n",
        "    while a == 7 :\n",
        "      break\n",
        "  \n",
        "\n",
        "  print(i,\"$\")"
      ],
      "metadata": {
        "id": "W6rLTuAzuaZf"
      },
      "execution_count": null,
      "outputs": []
    },
    {
      "cell_type": "code",
      "source": [
        "money = \"1000\"\n",
        "day = 1 \n",
        " \n",
        "for day in range(1,8):\n",
        "  money = float(money) + (float(money)*7/100)\n",
        "  print(\"PARANIZ:\", round(money,10) , \"    \"    \"GUN:\" ,(day))\n",
        "\n",
        "\n",
        " \n",
        "\n",
        "   \n",
        "\n",
        "\n",
        "  \n",
        "  \n"
      ],
      "metadata": {
        "colab": {
          "base_uri": "https://localhost:8080/"
        },
        "id": "mtazcrbHwK_1",
        "outputId": "d2fd63f8-4829-4e02-ac9f-0c317e6b327e"
      },
      "execution_count": 38,
      "outputs": [
        {
          "output_type": "stream",
          "name": "stdout",
          "text": [
            "PARANIZ: 1070.0     GUN: 1\n",
            "PARANIZ: 1144.9     GUN: 2\n",
            "PARANIZ: 1225.043     GUN: 3\n",
            "PARANIZ: 1310.79601     GUN: 4\n",
            "PARANIZ: 1402.5517307     GUN: 5\n",
            "PARANIZ: 1500.730351849     GUN: 6\n",
            "PARANIZ: 1605.7814764784     GUN: 7\n"
          ]
        }
      ]
    },
    {
      "cell_type": "code",
      "source": [
        "age=input(\"Are you a cigarette addict older than 75 years old? (Please answer all questions with YES or NO)\")\n",
        "if age == \"YES\":\n",
        "  age=False\n",
        "chronic=input(\"Do you have a severe chronic disease?\")\n",
        "if chronic ==\"YES\":\n",
        "  chronic=False\n",
        "immune=input(\"Is your immune system too weak?\")\n",
        "if immune ==\"YES\":\n",
        "  immune=False\n",
        "\n",
        "if age and immune and chronic:\n",
        "  print(\"Risk YOK\")\n",
        "else:\n",
        "  print(\"Risk VAR\")\n",
        "\n"
      ],
      "metadata": {
        "colab": {
          "base_uri": "https://localhost:8080/"
        },
        "id": "HvvpBawNzc2E",
        "outputId": "5e7e5677-aa98-49f3-af5a-8e9b9a228831"
      },
      "execution_count": 47,
      "outputs": [
        {
          "output_type": "stream",
          "name": "stdout",
          "text": [
            "Are you a cigarette addict older than 75 years old? (Please answer all questions with YES or NO)YES\n",
            "Do you have a severe chronic disease?NO\n",
            "Is your immune system too weak?NO\n",
            "Risk VAR\n"
          ]
        }
      ]
    },
    {
      "cell_type": "code",
      "source": [
        "derece=float(input(\"What is the temperature ? (Celcius)\"))\n",
        "fahr=(derece*9/5)+32\n",
        "print(fahr)\n",
        "\n",
        "#1km=0,6 mile yaklasik hesap kullandim\n",
        "\n",
        "km=float(input(\"how many kilometers away? (km)\"))\n",
        "mile=km*6/10\n",
        "print(mile)\n",
        "\n"
      ],
      "metadata": {
        "colab": {
          "base_uri": "https://localhost:8080/"
        },
        "id": "KJ2N0QTk2m7g",
        "outputId": "81e6c676-6be3-4274-8f51-6660e9b9860f"
      },
      "execution_count": 51,
      "outputs": [
        {
          "output_type": "stream",
          "name": "stdout",
          "text": [
            "What is the temperature ? (Celcius)55\n",
            "131.0\n",
            "how many kilometers away? (km)2\n",
            "1.2\n"
          ]
        }
      ]
    },
    {
      "cell_type": "code",
      "source": [
        "print(not 0 and \"write me\")"
      ],
      "metadata": {
        "colab": {
          "base_uri": "https://localhost:8080/"
        },
        "id": "hz1VtoHn2m5Y",
        "outputId": "611fd788-e686-48a0-be4e-8f807fd458d2"
      },
      "execution_count": 52,
      "outputs": [
        {
          "output_type": "stream",
          "name": "stdout",
          "text": [
            "write me\n"
          ]
        }
      ]
    },
    {
      "cell_type": "code",
      "source": [
        "sayi=(input(\"Write a number: \"))\n",
        "if (int(sayi) % 4 == 0) and (int(sayi) % 400 == 0):\n",
        "  print(\"artik yil\")\n",
        "elif int(sayi) % 100 == 0:\n",
        "  print(\"artik yil degil\")\n",
        "else:\n",
        "  print(\"artik yil degil\")\n",
        "\n",
        "  \n",
        "\n",
        "\n",
        "\n"
      ],
      "metadata": {
        "colab": {
          "base_uri": "https://localhost:8080/"
        },
        "id": "H383UucCA0LA",
        "outputId": "ce9a474a-ef65-4eb8-a9c0-4dc1333d2c91"
      },
      "execution_count": 64,
      "outputs": [
        {
          "output_type": "stream",
          "name": "stdout",
          "text": [
            "Write a number: 2400\n",
            "artik yil\n"
          ]
        }
      ]
    },
    {
      "cell_type": "code",
      "source": [
        "list_nbrs=[11,22,33,44,55,2,3,4,5,66,55,7,55,78,55,55,55,55]\n",
        "tekrar=list_nbrs.pop()\n",
        "print(\"en cok tekrar eden rakam:\" ,tekrar)\n",
        "tekrar_sayisi = list_nbrs.count(tekrar)\n",
        "print(\"Tekrar sayisi: \" ,tekrar_sayisi)\n"
      ],
      "metadata": {
        "colab": {
          "base_uri": "https://localhost:8080/"
        },
        "id": "-tDLFyF2A0In",
        "outputId": "12336fac-9f24-402b-ad38-e5a77c2129f3"
      },
      "execution_count": 67,
      "outputs": [
        {
          "output_type": "stream",
          "name": "stdout",
          "text": [
            "en cok tekrar eden rakam: 55\n",
            "Tekrar sayisi:  6\n"
          ]
        }
      ]
    },
    {
      "cell_type": "code",
      "source": [],
      "metadata": {
        "id": "ny-TmiyrA0GM"
      },
      "execution_count": null,
      "outputs": []
    },
    {
      "cell_type": "code",
      "source": [],
      "metadata": {
        "id": "IZM-7i7TA0D7"
      },
      "execution_count": null,
      "outputs": []
    }
  ],
  "metadata": {
    "colab": {
      "provenance": [],
      "collapsed_sections": [
        "9cyE8urjn38x",
        "OG8_tMCin381",
        "5Tl1Drc3n383",
        "mNljteUtEOru",
        "VlEYvXtHEOr1",
        "Hjyd3uo3EOr3",
        "nnT2nQpmEOr7",
        "V9EwT91qEOr8",
        "StVz_DG2EOr8",
        "W9C14mPVEOr-"
      ],
      "include_colab_link": true
    },
    "kernelspec": {
      "display_name": "Python 3 (ipykernel)",
      "language": "python",
      "name": "python3"
    },
    "language_info": {
      "codemirror_mode": {
        "name": "ipython",
        "version": 3
      },
      "file_extension": ".py",
      "mimetype": "text/x-python",
      "name": "python",
      "nbconvert_exporter": "python",
      "pygments_lexer": "ipython3",
      "version": "3.9.11"
    },
    "toc": {
      "base_numbering": 1,
      "nav_menu": {},
      "number_sections": false,
      "sideBar": true,
      "skip_h1_title": false,
      "title_cell": "Table of Contents",
      "title_sidebar": "Contents",
      "toc_cell": false,
      "toc_position": {
        "height": "calc(100% - 180px)",
        "left": "10px",
        "top": "150px",
        "width": "194.091px"
      },
      "toc_section_display": true,
      "toc_window_display": false
    }
  },
  "nbformat": 4,
  "nbformat_minor": 0
}